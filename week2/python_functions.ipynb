{
 "cells": [
  {
   "cell_type": "code",
   "execution_count": 2,
   "id": "d6e43b96",
   "metadata": {},
   "outputs": [
    {
     "name": "stdout",
     "output_type": "stream",
     "text": [
      "[2, 3, 5, 7, 11, 13, 17, 19]\n"
     ]
    }
   ],
   "source": [
    "# 1. Prime Number Finder\n",
    " \n",
    "#    * Function that returns all prime numbers up to `n`.\n",
    "#    * Input: `n = 20`\n",
    "#    * Output: `[2, 3, 5, 7, 11, 13, 17, 19]`\n",
    "\n",
    "def primes(n):\n",
    "    prime_numbers=[]\n",
    "    for i in range(n):\n",
    "        count=0\n",
    "        for j in range(1,i):\n",
    "            if i%j==0:\n",
    "                count+=1\n",
    "        if count==1:\n",
    "            prime_numbers.append(i)\n",
    "    return prime_numbers\n",
    "n=int(input())\n",
    "print(primes(n))"
   ]
  },
  {
   "cell_type": "code",
   "execution_count": 11,
   "id": "8f85a6fd",
   "metadata": {},
   "outputs": [
    {
     "name": "stdout",
     "output_type": "stream",
     "text": [
      "neveroddoreven\n",
      "True\n"
     ]
    }
   ],
   "source": [
    "# 2. Palindrome Checker\n",
    " \n",
    "#    * Check if a string is palindrome (ignoring spaces & case).\n",
    "#    * Input: `\"Never odd or even\"`\n",
    "#    * Output: `True`\n",
    "def palindrome(in_string):\n",
    "    l=in_string.split()\n",
    "    joined=''.join(l).lower()\n",
    "    # print(joined)\n",
    "    rev_string=''.join(reversed(joined))\n",
    "    print(rev_string)\n",
    "    if joined==rev_string:\n",
    "        return True\n",
    "    return False\n",
    "\n",
    "print(palindrome(\"Never odd or even\"))"
   ]
  },
  {
   "cell_type": "code",
   "execution_count": null,
   "id": "ef5f85bc",
   "metadata": {},
   "outputs": [
    {
     "data": {
      "text/plain": [
       "False"
      ]
     },
     "execution_count": 13,
     "metadata": {},
     "output_type": "execute_result"
    }
   ],
   "source": [
    "# 3. Anagram Checker\n",
    " \n",
    "#    * Function checks if two words are anagrams.\n",
    "#    * Input: `\"listen\", \"silent\"`\n",
    "#    * Output: `True`\n",
    "\n",
    "def anagram(str1,str2):\n",
    "    str1=str1.lower()\n",
    "    str2=str2.lower()\n",
    "    if sorted(str1)==sorted(str2):\n",
    "        return True\n",
    "    return False\n",
    "anagram(\"listen\", \"silent\")"
   ]
  },
  {
   "cell_type": "code",
   "execution_count": 15,
   "id": "4857721b",
   "metadata": {},
   "outputs": [
    {
     "name": "stdout",
     "output_type": "stream",
     "text": [
      "Vowels=2 Consonants=3\n"
     ]
    }
   ],
   "source": [
    "# 4. Count Vowels & Consonants\n",
    " \n",
    "#    * Return count of vowels & consonants.\n",
    "#    * Input: `\"hello\"`\n",
    "#    * Output: `Vowels=2, Consonants=3`/\n",
    "\n",
    "def count_vowels_consonants(str1):\n",
    "    vowels=0\n",
    "    con=0\n",
    "    for i in str1.lower():\n",
    "        if (i=='a' or i=='e' or i=='i' or i=='o' or i=='u'):\n",
    "            vowels+=1\n",
    "        else:\n",
    "            con+=1\n",
    "    return vowels,con\n",
    "\n",
    "vow,con=count_vowels_consonants(\"hello\")\n",
    "print(f\"Vowels={vow} Consonants={con}\")"
   ]
  },
  {
   "cell_type": "code",
   "execution_count": 20,
   "id": "73b26c40",
   "metadata": {},
   "outputs": [
    {
     "name": "stdout",
     "output_type": "stream",
     "text": [
      "amazing\n"
     ]
    }
   ],
   "source": [
    "# 5. Longest Word Finder\n",
    " \n",
    "# * Return longest word in a sentence.\n",
    "# * Input: `\"Python is amazing\"`\n",
    "# * Output: `\"amazing\"\n",
    "def longest_word(sentence):\n",
    "    words=sentence.split()\n",
    "    return max(words,key=len)\n",
    "\n",
    "print(longest_word(\"Python is amazing\"))"
   ]
  },
  {
   "cell_type": "code",
   "execution_count": null,
   "id": "b48df6a0",
   "metadata": {},
   "outputs": [],
   "source": []
  }
 ],
 "metadata": {
  "kernelspec": {
   "display_name": "Python 3",
   "language": "python",
   "name": "python3"
  },
  "language_info": {
   "codemirror_mode": {
    "name": "ipython",
    "version": 3
   },
   "file_extension": ".py",
   "mimetype": "text/x-python",
   "name": "python",
   "nbconvert_exporter": "python",
   "pygments_lexer": "ipython3",
   "version": "3.11.0"
  }
 },
 "nbformat": 4,
 "nbformat_minor": 5
}
