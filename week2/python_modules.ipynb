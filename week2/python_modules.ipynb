{
 "cells": [
  {
   "cell_type": "code",
   "execution_count": 22,
   "id": "9b01f767",
   "metadata": {},
   "outputs": [
    {
     "name": "stdout",
     "output_type": "stream",
     "text": [
      "Mz<G2x\n"
     ]
    }
   ],
   "source": [
    "# 1. Random Password Generator (`random`, `string`)\n",
    " \n",
    "# * Input: `length=6`\n",
    "# * Output: `\"aB9@xQ\"`\n",
    "\n",
    "import string\n",
    "import random\n",
    "\n",
    "def gen_password(length=6):\n",
    "    chars=string.ascii_letters+string.digits+string.punctuation\n",
    "    password=''.join(random.choice(chars) for _ in range(length))\n",
    "    return password \n",
    "print(gen_password())"
   ]
  },
  {
   "cell_type": "code",
   "execution_count": 2,
   "id": "89926264",
   "metadata": {},
   "outputs": [
    {
     "name": "stdout",
     "output_type": "stream",
     "text": [
      "5.0\n",
      "0.0\n",
      "1.0\n"
     ]
    }
   ],
   "source": [
    "# 2. Simple Calculator with `math`\n",
    " \n",
    "# * Perform sqrt, factorial, sin, cos.\n",
    "# * Input: `sqrt(25)`\n",
    "# * Output: `5.0`\n",
    "\n",
    "import math\n",
    "def calculator(expr):\n",
    "    try:\n",
    "        allowed_funcs = {\n",
    "            \"sqrt\": math.sqrt,\n",
    "            \"factorial\": math.factorial,\n",
    "            \"sin\": math.sin,\n",
    "            \"cos\": math.cos\n",
    "        }\n",
    "        \n",
    "        return eval(expr, allowed_funcs)\n",
    "    except Exception as e:\n",
    "        return f\"Error: {e}\"\n",
    "\n",
    "print(calculator(\"sqrt(25)\"))\n",
    "print(calculator(\"sin(0)\"))\n",
    "print(calculator(\"cos(0)\"))\n",
    "\n"
   ]
  },
  {
   "cell_type": "code",
   "execution_count": 2,
   "id": "0a7cbfb5",
   "metadata": {},
   "outputs": [
    {
     "data": {
      "text/plain": [
       "Counter({'cat': 2, 'dog': 1})"
      ]
     },
     "execution_count": 2,
     "metadata": {},
     "output_type": "execute_result"
    }
   ],
   "source": [
    "# 3.Word Frequency Counter (`collections.Counter`)\n",
    " \n",
    "# * Input: `\"cat dog cat\"`\n",
    "# * Output: `{'cat':2,'dog':1}`\n",
    "\n",
    "from collections import Counter\n",
    "\n",
    "def frequency_counter(Input):\n",
    "    li=Input.split()\n",
    "    return Counter(li)\n",
    "frequency_counter(\"cat dog cat\")"
   ]
  },
  {
   "cell_type": "code",
   "execution_count": 7,
   "id": "ffeb6534",
   "metadata": {},
   "outputs": [
    {
     "name": "stdout",
     "output_type": "stream",
     "text": [
      "Weather: Rainy, Temp: 19 C\n"
     ]
    }
   ],
   "source": [
    "# 4. Weather Simulator (`random`)\n",
    " \n",
    "# * Input: None\n",
    "# * Output: `\"Weather: Sunny, Temp: 32°C\"`\n",
    " \n",
    "import random\n",
    "def weather_simulator():\n",
    "    weathers=['Sunny','Stormy','Rainy','Warm']\n",
    "    weather=random.choice(weathers)\n",
    "    temperature=random.randint(-10,40)\n",
    "    print(f\"Weather: {weather}, Temp: {temperature} C\")\n",
    "weather_simulator()"
   ]
  },
  {
   "cell_type": "code",
   "execution_count": 6,
   "id": "651eb0cb",
   "metadata": {},
   "outputs": [
    {
     "name": "stdout",
     "output_type": "stream",
     "text": [
      "5\n",
      "4\n",
      "3\n",
      "2\n",
      "1\n",
      "Time's up!\n"
     ]
    }
   ],
   "source": [
    "# 5. Timer Program (`time`)\n",
    " \n",
    "# * Input: `countdown(5)`\n",
    "# * Output:\n",
    " \n",
    "#   ```\n",
    "#   5  \n",
    "#   4  \n",
    "#   3  \n",
    "#   2  \n",
    "#   1  \n",
    "#   Time’s up!\n",
    "#   ```\n",
    "\n",
    "import time\n",
    "def countdown(n):\n",
    "    while n>0:\n",
    "        print(n)\n",
    "        time.sleep(1)\n",
    "        n-=1\n",
    "    print(\"Time's up!\")\n",
    "n=int(input())\n",
    "countdown(n)"
   ]
  },
  {
   "cell_type": "code",
   "execution_count": null,
   "id": "16775059",
   "metadata": {},
   "outputs": [],
   "source": []
  }
 ],
 "metadata": {
  "kernelspec": {
   "display_name": "Python 3",
   "language": "python",
   "name": "python3"
  },
  "language_info": {
   "codemirror_mode": {
    "name": "ipython",
    "version": 3
   },
   "file_extension": ".py",
   "mimetype": "text/x-python",
   "name": "python",
   "nbconvert_exporter": "python",
   "pygments_lexer": "ipython3",
   "version": "3.11.0"
  }
 },
 "nbformat": 4,
 "nbformat_minor": 5
}
