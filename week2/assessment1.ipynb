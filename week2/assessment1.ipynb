{
 "cells": [
  {
   "cell_type": "code",
   "execution_count": 3,
   "id": "2b339b04",
   "metadata": {},
   "outputs": [
    {
     "name": "stdout",
     "output_type": "stream",
     "text": [
      "3\n"
     ]
    }
   ],
   "source": [
    "# 1. Problem: Given a text file, count the total number of words.\n",
    "\n",
    "def no_of_words(file):\n",
    "    text=file.read()\n",
    "    words=text.split()\n",
    "    return len(words)\n",
    "\n",
    "fp=open(\"test.txt\",\"r\")\n",
    "print(no_of_words(fp))"
   ]
  },
  {
   "cell_type": "code",
   "execution_count": 6,
   "id": "6e4e8740",
   "metadata": {},
   "outputs": [
    {
     "name": "stdout",
     "output_type": "stream",
     "text": [
      "Strong password\n"
     ]
    }
   ],
   "source": [
    "\n",
    "# 2. Problem: Write a program to check if a password is strong (at least 8 characters, contains uppercase, lowercase,\n",
    "#  digit, and special char).\n",
    "\n",
    "def check_pass(password):\n",
    "    if len(password)>7:\n",
    "        if(any(a.islower() for a in password) and any(a.isupper() for a in password) and any(a.isdigit() for a in password) and any(not a.isalnum() for a in password)):\n",
    "            return \"Strong password\"\n",
    "        else:\n",
    "            return \"Weak password\"\n",
    "    else:\n",
    "        return \"Weak password\"\n",
    "password=input()\n",
    "print(check_pass(password))\n",
    "\n"
   ]
  },
  {
   "cell_type": "code",
   "execution_count": 8,
   "id": "a0ae1da3",
   "metadata": {},
   "outputs": [
    {
     "name": "stdout",
     "output_type": "stream",
     "text": [
      "15.0\n"
     ]
    }
   ],
   "source": [
    "# 3. Problem: Implement a calculator with +, -, *, / operations.\n",
    "\n",
    "def calculator(a,b,op):\n",
    "    if op=='+':\n",
    "        return a+b\n",
    "    elif op==\"-\":\n",
    "        return a-b\n",
    "    elif op==\"*\":\n",
    "        return a*b\n",
    "    elif op==\"/\":\n",
    "        if b!=0:\n",
    "            return a/b\n",
    "        else:\n",
    "            return \"Divison with zero is not possible\"\n",
    "    else:\n",
    "        return \"Invalid operator\"\n",
    "a=float(input(\"Enter  the first operand\"))\n",
    "b=float(input(\"Enter the second operand\"))\n",
    "op=input(\"Enter the operator\")\n",
    "print(calculator(a,b,op))"
   ]
  },
  {
   "cell_type": "code",
   "execution_count": 21,
   "id": "e4920ae5",
   "metadata": {},
   "outputs": [
    {
     "name": "stdout",
     "output_type": "stream",
     "text": [
      "['swathi']\n"
     ]
    }
   ],
   "source": [
    "# 4. Problem: Given a list of student names, find duplicates.\n",
    "from collections import Counter\n",
    "def find_duplicates(students):\n",
    "    s=Counter(students)\n",
    "    stu=[]\n",
    "    for key,val in s.items():\n",
    "        if int(val)>1:\n",
    "            stu.append(key)\n",
    "    return stu\n",
    "students=list(input().split())\n",
    "print(find_duplicates(students))\n",
    "    "
   ]
  },
  {
   "cell_type": "code",
   "execution_count": 26,
   "id": "2430f5fd",
   "metadata": {},
   "outputs": [
    {
     "name": "stdout",
     "output_type": "stream",
     "text": [
      "96.8 F\n"
     ]
    }
   ],
   "source": [
    "# 5. Problem: Convert between Celsius and Fahrenheit.\n",
    "def Celsius_Fahrenheit(temp):\n",
    "    if temp.endswith(\"C\"):\n",
    "        return f\"{((9/5)*float(temp[:-1]) +32)} F\"\n",
    "    return f\"{(5/9)*float(temp[:-1])-32} C\"\n",
    "temperature=input(\"Enter temperature\")\n",
    "print(Celsius_Fahrenheit(temperature))"
   ]
  },
  {
   "cell_type": "code",
   "execution_count": 27,
   "id": "4205c818",
   "metadata": {},
   "outputs": [
    {
     "name": "stdout",
     "output_type": "stream",
     "text": [
      "9\n"
     ]
    }
   ],
   "source": [
    "# 6. Problem: Find the largest number from a list of integers.\n",
    "\n",
    "def largest(nums):\n",
    "    return max(nums)\n",
    "nums=list(map(int,input().split()))\n",
    "print(largest(nums))"
   ]
  },
  {
   "cell_type": "code",
   "execution_count": 28,
   "id": "18f8a0e2",
   "metadata": {},
   "outputs": [
    {
     "name": "stdout",
     "output_type": "stream",
     "text": [
      "Simple interest : 500.0\n"
     ]
    }
   ],
   "source": [
    "# 7. Problem: Calculate Simple Interest.\n",
    "\n",
    "def simple_interest(amount,rate,time):\n",
    "    return (amount*rate*time)/100\n",
    "amount=int(input(\"Enter the principle amount\"))\n",
    "rate=int(input(\"Enter the rate of interest\"))\n",
    "time=int(input(\"Enter the no.of years \"))\n",
    "print(\"Simple interest :\",simple_interest(amount,rate,time))"
   ]
  },
  {
   "cell_type": "code",
   "execution_count": null,
   "id": "9f180a5e",
   "metadata": {},
   "outputs": [
    {
     "name": "stdout",
     "output_type": "stream",
     "text": [
      "['Bob', 'David', 'Eva', 'Helen']\n"
     ]
    }
   ],
   "source": [
    "# 8. Problem: Given a dictionary of student names and attendance %, find defaulters (<75%).\n",
    "\n",
    "def attendance_def(students):\n",
    "    names=[]\n",
    "    for name,att in students.items():\n",
    "        if att<75:\n",
    "            names.append(name)\n",
    "    return names\n",
    "students=eval(input(\"Enter student names with their attendance presentage\"))\n",
    "print(attendance_def(students))\n",
    "\n",
    "# {\"Alice\": 82,\"Bob\": 68,\"Charlie\": 90,\"David\": 74,\"Eva\": 59,\"Frank\": 88,\"Grace\": 95,\"Helen\": 72}"
   ]
  },
  {
   "cell_type": "code",
   "execution_count": 31,
   "id": "65f0fba8",
   "metadata": {},
   "outputs": [
    {
     "name": "stdout",
     "output_type": "stream",
     "text": [
      "10\n"
     ]
    }
   ],
   "source": [
    "# 9. Problem: Input: 1234 → Output: 10\n",
    "def str_sum(nums):\n",
    "    s=0\n",
    "    for i in nums:\n",
    "        s+=int(i)\n",
    "    return s\n",
    "num=input()\n",
    "print(str_sum(num))"
   ]
  },
  {
   "cell_type": "code",
   "execution_count": 38,
   "id": "54db256e",
   "metadata": {},
   "outputs": [
    {
     "name": "stdout",
     "output_type": "stream",
     "text": [
      "Not a prime\n"
     ]
    }
   ],
   "source": [
    "# 10. Problem: Write a function to check if a number is prime.\n",
    "\n",
    "def prime(num):\n",
    "    c=0\n",
    "    for i in range(1,num):\n",
    "        if num%i==0:\n",
    "            c+=1\n",
    "    if c!=1:\n",
    "         return \"Not a prime\"\n",
    "    return \"Prime\"\n",
    "num=int(input())\n",
    "print(prime(num))"
   ]
  },
  {
   "cell_type": "code",
   "execution_count": 39,
   "id": "e85da7b2",
   "metadata": {},
   "outputs": [
    {
     "name": "stdout",
     "output_type": "stream",
     "text": [
      "(3, 7)\n"
     ]
    }
   ],
   "source": [
    "# 11. Problem: Find smallest and largest numbers from a list.\n",
    "\n",
    "def small_large(nums):\n",
    "    return min(nums),max(nums)\n",
    "nums=list(map(int,input().split()))\n",
    "print(small_large(nums))"
   ]
  },
  {
   "cell_type": "code",
   "execution_count": null,
   "id": "0128429b",
   "metadata": {},
   "outputs": [
    {
     "name": "stdout",
     "output_type": "stream",
     "text": [
      "Total bill : 175\n"
     ]
    }
   ],
   "source": [
    "# 12. Problem: Given items with prices in a dictionary, calculate total bill.\n",
    "\n",
    "def total_bill(items):\n",
    "    total=0\n",
    "    for _,val in items.items():\n",
    "        total+=val\n",
    "    return total\n",
    "items=eval(input())\n",
    "print(\"Total bill :\",total_bill(items))\n",
    "\n",
    "# {\n",
    "#     \"apple\": 30,\n",
    "#     \"banana\": 10,\n",
    "#     \"milk\": 50,\n",
    "#     \"bread\": 25,\n",
    "#     \"eggs\": 60\n",
    "# }"
   ]
  },
  {
   "cell_type": "code",
   "execution_count": 42,
   "id": "78f74547",
   "metadata": {},
   "outputs": [
    {
     "name": "stdout",
     "output_type": "stream",
     "text": [
      "6\n"
     ]
    }
   ],
   "source": [
    "# 13. Problem: Input 3 numbers, print the largest.\n",
    "\n",
    "def largest_3(num1,num2,num3):\n",
    "    # m=float(\"-inf\")\n",
    "    if num1>num2 and num1>num3:\n",
    "        return num1\n",
    "    elif num2>num1 and num2>num3:\n",
    "        return num2\n",
    "    else:\n",
    "        return num3\n",
    "num1,num2,num3=map(int,input().split())\n",
    "print(largest_3(num1,num2,num3))"
   ]
  },
  {
   "cell_type": "code",
   "execution_count": 44,
   "id": "5c9eb716",
   "metadata": {},
   "outputs": [
    {
     "name": "stdout",
     "output_type": "stream",
     "text": [
      "{'e': 2, 'n': 1, 't': 1, 'r': 1}\n"
     ]
    }
   ],
   "source": [
    "# 14. Problem: Count how many times each character appears in a string.\n",
    "\n",
    "from collections import Counter\n",
    "def char_count(string):\n",
    "    c=Counter(string)\n",
    "    print(dict(c))\n",
    "\n",
    "string=input()\n",
    "char_count(string)"
   ]
  },
  {
   "cell_type": "code",
   "execution_count": 47,
   "id": "fabd6e01",
   "metadata": {},
   "outputs": [
    {
     "name": "stdout",
     "output_type": "stream",
     "text": [
      "Total electricity bill:2200.00\n"
     ]
    }
   ],
   "source": [
    "# 15. Problem: Calculate electricity bill:\n",
    "\n",
    "# First 100 units → ₹5/unit\n",
    "\n",
    "# Next 100 units → ₹7/unit\n",
    "\n",
    "# Above 200 units → ₹10/unit\n",
    "\n",
    "def electricity_bill(units):\n",
    "    if units<=100:\n",
    "        return 5*units\n",
    "    elif units<=200 and units>100:\n",
    "        return electricity_bill(100)+(7*(units-100))\n",
    "    else:\n",
    "        return electricity_bill(200)+(10*(units-200))\n",
    "units=int(input())\n",
    "print(f\"Total electricity bill:{electricity_bill(units):.2f}\")"
   ]
  },
  {
   "cell_type": "code",
   "execution_count": 48,
   "id": "5a6a33d8",
   "metadata": {},
   "outputs": [
    {
     "name": "stdout",
     "output_type": "stream",
     "text": [
      "['Alice', 'Bob', 'Charlie', 'David', 'Eva']\n"
     ]
    }
   ],
   "source": [
    "# 16. Problem: Sort a list of names in ascending order.\n",
    "\n",
    "def sort_name(names):\n",
    "    return sorted(names)\n",
    "names=eval(input())\n",
    "print(sort_name(names))"
   ]
  },
  {
   "cell_type": "code",
   "execution_count": 51,
   "id": "dd84019a",
   "metadata": {},
   "outputs": [
    {
     "name": "stdout",
     "output_type": "stream",
     "text": [
      "4321\n"
     ]
    }
   ],
   "source": [
    "# 17. Problem: Input: 1234 → Output: 4321\n",
    "\n",
    "def descending(string):\n",
    "    print(''.join(reversed(string)))\n",
    "string=input()\n",
    "descending(string)"
   ]
  },
  {
   "cell_type": "code",
   "execution_count": null,
   "id": "6ebc3537",
   "metadata": {},
   "outputs": [
    {
     "name": "stdout",
     "output_type": "stream",
     "text": [
      "[10]\n",
      "[10, 20]\n",
      "[30]\n"
     ]
    }
   ],
   "source": [
    "# def f(val, lst=[]):\n",
    "#     lst.append(val)\n",
    "#     return lst\n",
    "# print(f(10))\n",
    "# print(f(20))\n",
    "# print(f(30,[]))\n"
   ]
  },
  {
   "cell_type": "code",
   "execution_count": null,
   "id": "070c0bf6",
   "metadata": {},
   "outputs": [],
   "source": [
    "\n"
   ]
  }
 ],
 "metadata": {
  "kernelspec": {
   "display_name": "Python 3",
   "language": "python",
   "name": "python3"
  },
  "language_info": {
   "codemirror_mode": {
    "name": "ipython",
    "version": 3
   },
   "file_extension": ".py",
   "mimetype": "text/x-python",
   "name": "python",
   "nbconvert_exporter": "python",
   "pygments_lexer": "ipython3",
   "version": "3.11.0"
  }
 },
 "nbformat": 4,
 "nbformat_minor": 5
}
