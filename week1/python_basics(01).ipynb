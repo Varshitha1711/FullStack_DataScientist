{
 "cells": [
  {
   "cell_type": "code",
   "execution_count": 14,
   "id": "fc50226e",
   "metadata": {},
   "outputs": [
    {
     "name": "stdout",
     "output_type": "stream",
     "text": [
      "eman\n",
      "<reversed object at 0x0000019DEBB6A8F0>\n",
      "eman\n"
     ]
    }
   ],
   "source": [
    "str=input()\n",
    "print(str[::-1])\n",
    "str1=reversed(str)\n",
    "print(str1)\n",
    "print(''.join(str1))\n"
   ]
  },
  {
   "cell_type": "code",
   "execution_count": null,
   "id": "f2592c03",
   "metadata": {},
   "outputs": [
    {
     "name": "stdout",
     "output_type": "stream",
     "text": [
      "True\n"
     ]
    }
   ],
   "source": [
    "num=int(input(\"Enter the number:\"))\n",
    "def armstrong(num):\n",
    "    sum=0\n",
    "    temp=num\n",
    "    while(temp>0):\n",
    "        rem=temp%10\n",
    "        sum=sum+rem**3\n",
    "        temp=temp//10\n",
    "    if (num==sum):\n",
    "        return True\n",
    "    return False\n",
    "print(armstrong(num))"
   ]
  },
  {
   "cell_type": "code",
   "execution_count": 1,
   "id": "70e5eefd",
   "metadata": {},
   "outputs": [],
   "source": [
    "def reverse_string_loop(s):\n",
    "    reversed_str = ''\n",
    "    for char in s:\n",
    "        reversed_str = char"
   ]
  },
  {
   "cell_type": "code",
   "execution_count": 13,
   "id": "ef331f16",
   "metadata": {},
   "outputs": [
    {
     "name": "stdout",
     "output_type": "stream",
     "text": [
      "Vowels: 5\n",
      "Consonants: 10\n"
     ]
    }
   ],
   "source": [
    "sentence=input(\"Enter the sentence:\")\n",
    "def count_v_c(sentence):\n",
    "    v=0\n",
    "    c=0\n",
    "    for i in sentence:\n",
    "        if(i=='a' or i=='e' or i=='i' or i=='o' or i=='u' or i=='A' or i=='E' or i=='I' or i=='O' or i=='U'):\n",
    "            v=v+1\n",
    "        elif((i>='a' and i<='z') or (i>='A' and i<='Z')):\n",
    "            c=c+1\n",
    "    return v,c\n",
    "v,c=count_v_c(sentence)\n",
    "print(\"Vowels:\",v)\n",
    "print(\"Consonants:\",c)\n"
   ]
  },
  {
   "cell_type": "code",
   "execution_count": 1,
   "id": "af467d4a",
   "metadata": {},
   "outputs": [
    {
     "name": "stdout",
     "output_type": "stream",
     "text": [
      "4\n",
      "3\n"
     ]
    }
   ],
   "source": [
    "a=int(input())\n",
    "b=int(input())\n",
    "a,b=b,a\n",
    "print(a)\n",
    "print(b)"
   ]
  },
  {
   "cell_type": "code",
   "execution_count": null,
   "id": "3e17a40b",
   "metadata": {},
   "outputs": [
    {
     "name": "stdout",
     "output_type": "stream",
     "text": [
      "0 * 4 = 0\n",
      "1 * 4 = 4\n",
      "2 * 4 = 8\n",
      "3 * 4 = 12\n",
      "4 * 4 = 16\n",
      "5 * 4 = 20\n",
      "6 * 4 = 24\n",
      "7 * 4 = 28\n",
      "8 * 4 = 32\n",
      "9 * 4 = 36\n",
      "10 * 4 = 40\n"
     ]
    }
   ],
   "source": [
    "number=int(input(\"Enter the number:\"))\n",
    "table(number)\n",
    "def table(number):\n",
    "    for i in range(11):\n",
    "        print(i,\"*\",number,\"=\",i*number)\n",
    "        print(f\"{i} * {number} = {i*number}\")"
   ]
  },
  {
   "cell_type": "code",
   "execution_count": 19,
   "id": "f289b769",
   "metadata": {},
   "outputs": [
    {
     "name": "stdout",
     "output_type": "stream",
     "text": [
      "1700 is not a leap year\n"
     ]
    }
   ],
   "source": [
    "year=int(input())\n",
    "if(year%4==0 and year%100!=0) or (year%400==0):\n",
    "    print(year,\"is a leap year\")\n",
    "else:\n",
    "    print(year,\"is not a leap year\")"
   ]
  },
  {
   "cell_type": "code",
   "execution_count": 20,
   "id": "7326f4b0",
   "metadata": {},
   "outputs": [
    {
     "name": "stdout",
     "output_type": "stream",
     "text": [
      "Maximum score is: 8\n"
     ]
    }
   ],
   "source": [
    "scores=list(map(int,input().split()))\n",
    "def max_score(scores):\n",
    "    m=max(scores)\n",
    "    return m\n",
    "print(\"Maximum score is:\",max_score(scores))"
   ]
  },
  {
   "cell_type": "code",
   "execution_count": 22,
   "id": "25780070",
   "metadata": {},
   "outputs": [
    {
     "name": "stdout",
     "output_type": "stream",
     "text": [
      "True\n"
     ]
    }
   ],
   "source": [
    "pat_id=input(\"Enter the patient ID:\")\n",
    "def palindrome(str):\n",
    "    str1=str[::-1]\n",
    "    if(str==str1):\n",
    "        return True\n",
    "    return False\n",
    "print(palindrome(pat_id))"
   ]
  },
  {
   "cell_type": "code",
   "execution_count": 23,
   "id": "3827817e",
   "metadata": {},
   "outputs": [
    {
     "name": "stdout",
     "output_type": "stream",
     "text": [
      "Number of ways to arrange workers: 120\n"
     ]
    }
   ],
   "source": [
    "no_of_workers=int(input())\n",
    "def no_of_ways(workers):\n",
    "    if (workers<=1):\n",
    "        return 1\n",
    "    else:\n",
    "        return workers*no_of_ways(workers-1)\n",
    "print(\"Number of ways to arrange workers:\",no_of_ways(no_of_workers))"
   ]
  },
  {
   "cell_type": "code",
   "execution_count": 24,
   "id": "e6f05f26",
   "metadata": {},
   "outputs": [
    {
     "name": "stdout",
     "output_type": "stream",
     "text": [
      "Rewarded numbers are: [15, 30, 45, 60, 75, 90]\n"
     ]
    }
   ],
   "source": [
    "def reward():\n",
    "    qualify=[]\n",
    "    for i in range(1,101):\n",
    "        if(i%3==0 and i%5==0):\n",
    "            qualify.append(i)\n",
    "    return qualify\n",
    "print(\"Rewarded numbers are:\",reward())"
   ]
  },
  {
   "cell_type": "code",
   "execution_count": null,
   "id": "31b0d303",
   "metadata": {},
   "outputs": [],
   "source": []
  }
 ],
 "metadata": {
  "kernelspec": {
   "display_name": "Python 3",
   "language": "python",
   "name": "python3"
  },
  "language_info": {
   "codemirror_mode": {
    "name": "ipython",
    "version": 3
   },
   "file_extension": ".py",
   "mimetype": "text/x-python",
   "name": "python",
   "nbconvert_exporter": "python",
   "pygments_lexer": "ipython3",
   "version": "3.11.0"
  }
 },
 "nbformat": 4,
 "nbformat_minor": 5
}
