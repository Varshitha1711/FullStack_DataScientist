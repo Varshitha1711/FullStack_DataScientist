{
 "cells": [
  {
   "cell_type": "code",
   "execution_count": 17,
   "id": "5122e80c",
   "metadata": {},
   "outputs": [
    {
     "name": "stdout",
     "output_type": "stream",
     "text": [
      "[(2, 1), (1, 2), (2, 3), (4, 4), (2, 5)]\n"
     ]
    }
   ],
   "source": [
    "list1=[(2, 5), (1, 2), (4, 4), (2, 3), (2, 1)]\n",
    "# list1.sort(key=lambda x: x[1])\n",
    "for i in range(len(list1)):\n",
    "    for j in range(i+1,len(list1)):\n",
    "        if list1[i][1]>list1[j][1]:\n",
    "            list1[i],list1[j]=list1[j],list1[i]\n",
    "print(list1)"
   ]
  },
  {
   "cell_type": "code",
   "execution_count": 18,
   "id": "e5bab580",
   "metadata": {},
   "outputs": [
    {
     "name": "stdout",
     "output_type": "stream",
     "text": [
      "Highest Marks = 90\n",
      "Lowest Marks = 23\n",
      "Average Marks = 56.6\n"
     ]
    }
   ],
   "source": [
    "# Student Marks List\n",
    "# Scenario: Store marks of 5 students in a list. Display the highest, lowest, and average marks.\n",
    "# Sample Input:\n",
    "# Marks: [45, 78, 88, 56, 90]\n",
    "# Expected Output:\n",
    "# Highest Marks = 90\n",
    "# Lowest Marks = 45\n",
    "# Average Marks = 71.4\n",
    "\n",
    "def student_marks(marks):\n",
    "    highest = max(marks)\n",
    "    lowest = min(marks)\n",
    "    average = sum(marks) / len(marks)\n",
    "    return highest, lowest, average\n",
    "marks=list(map(int,input(\"Enter the marks of 5 students separated by space: \").split()))\n",
    "highest, lowest, average = student_marks(marks)\n",
    "print(f\"Highest Marks = {highest}\")\n",
    "print(f\"Lowest Marks = {lowest}\")\n",
    "print(f\"Average Marks = {average:.1f}\")"
   ]
  },
  {
   "cell_type": "code",
   "execution_count": null,
   "id": "b85b821e",
   "metadata": {},
   "outputs": [],
   "source": [
    "# A teacher wants a grading system where marks are input, and the grade is displayed.\n",
    " \n",
    "# Sample Input:\n",
    " \n",
    "# Enter marks: 82\n",
    " \n",
    " \n",
    "# Expected Output:\n",
    " \n",
    "# Grade: A (Excellent)\n",
    " \n",
    " \n",
    "# (Rules: >=90 → A+, 80–89 → A, 70–79 → B, 60–69 → C, <60 → Fail)\n",
    "\n",
    "def grading_system(marks):\n",
    "    if marks >= 90:\n",
    "        return \"A+\"\n",
    "    elif marks >= 80:\n",
    "        return \"A\"\n",
    "    elif marks >= 70:\n",
    "        return \"B\"\n",
    "    elif marks >= 60:\n",
    "        return \"C\"\n",
    "    else:\n",
    "        return \"Fail\"\n",
    "marks = int(input(\"Enter marks: \"))\n",
    "grade = grading_system(marks)\n",
    "print(f\"Grade: {grade}\")"
   ]
  },
  {
   "cell_type": "code",
   "execution_count": null,
   "id": "db9753e1",
   "metadata": {},
   "outputs": [
    {
     "name": "stdout",
     "output_type": "stream",
     "text": [
      "Total Bill = 310\n"
     ]
    }
   ],
   "source": [
    "#  Scenario: A grocery shopkeeper wants to calculate the bill of 3 items. Prices and quantities should be stored in variables, and the program should display the total cost.\n",
    " \n",
    "# Sample Input:\n",
    " \n",
    "# Item1 Price: 50, Quantity: 2\n",
    "\n",
    "# Item2 Price: 30, Quantity: 5\n",
    "\n",
    "# Item3 Price: 20, Quantity: 3\n",
    " \n",
    " \n",
    "# Expected Output:\n",
    " \n",
    "# Total Bill = (50*2) + (30*5) + (20*3) = 100 + 150 + 60 = 310\n",
    " \n",
    "\n",
    "# def total_bill(items):\n",
    "#     total=0\n",
    "#     price={}\n",
    "#     for i in items:\n",
    "#         if i=='Price:':\n",
    "#             \n",
    "#     for key,value in price.items():\n",
    "#         total+=int(key)*int(value)\n",
    "#     return total\n",
    "# items =list(input(\"Enter itmes, item prices and quantities: \").split())\n",
    "# bill = total_bill(items)\n",
    "# print(f\"Total Bill = {bill}\")\n",
    "\n",
    "\n",
    "\n",
    "def total_bill(item_details):\n",
    "    total = 0\n",
    "    for item in item_details:\n",
    "        parts = item.split(\",\")\n",
    "        price = int(parts[0].split(\":\")[-1].strip())\n",
    "        quantity = int(parts[1].split(\":\")[1].strip())\n",
    "        \n",
    "        total += price * quantity\n",
    "    return total\n",
    "\n",
    "item1 = input(\"Item1 Price and Quantity \")\n",
    "item2 = input(\"Item2 Price and Quantity  \")\n",
    "item3 = input(\"Item3 Price and Quantity \")\n",
    "bill = total_bill([item1, item2, item3])\n",
    "\n",
    "print(f\"Total Bill = {bill}\")\n",
    "\n"
   ]
  },
  {
   "cell_type": "code",
   "execution_count": 8,
   "id": "b9628e64",
   "metadata": {},
   "outputs": [
    {
     "name": "stdout",
     "output_type": "stream",
     "text": [
      "Addition: 6\n",
      "Subtraction: 0\n",
      "Multiplication: 9\n",
      "Division: 1.0\n"
     ]
    }
   ],
   "source": [
    "def calcultor(num1,num2):\n",
    "    add = num1 + num2\n",
    "    sub = num1 - num2\n",
    "    mul = num1 * num2\n",
    "    div = num1 / num2 if num2 != 0 else \"undefined (cannot divide by zero)\"\n",
    "    return add, sub, mul, div\n",
    "num1=int(input(\"Enter first number:\"))\n",
    "num2=int(input(\"Enter second number:\"))\n",
    "add, sub, mul, div = calcultor(num1,num2)\n",
    "print(f\"Addition: {add}\")\n",
    "print(f\"Subtraction: {sub}\")\n",
    "print(f\"Multiplication: {mul}\")\n",
    "print(f\"Division: {div}\")"
   ]
  },
  {
   "cell_type": "code",
   "execution_count": null,
   "id": "1a518f24",
   "metadata": {},
   "outputs": [
    {
     "name": "stdout",
     "output_type": "stream",
     "text": [
      "Phone number of Ravi : 9123456780 \n"
     ]
    }
   ],
   "source": [
    "Phonebook = {\"Suhel\": 9876543210, \"Ravi\": 9123456780, \"Anita\": 9988776655}\n",
    "search_name=input(\"Enter the name to search: \")\n",
    "for name,number in Phonebook.items():\n",
    "    if name.lower()==search_name.lower():\n",
    "        print(f\"Phone number of {name} : {number} \")\n",
    "    "
   ]
  },
  {
   "cell_type": "code",
   "execution_count": 11,
   "id": "0b78e918",
   "metadata": {},
   "outputs": [
    {
     "name": "stdout",
     "output_type": "stream",
     "text": [
      "Total Words = 3\n",
      "Total Characters = 18\n",
      "Total Vowels = 6\n"
     ]
    }
   ],
   "source": [
    "# Write a program to count the number of words, characters, and vowels in a sentence.\n",
    "# Sample Input:\n",
    "# Enter sentence: \"Python is awesome\"\n",
    "# Expected Output:\n",
    "# Total Words = 3\n",
    "# Total Characters = 16\n",
    "# Total Vowels = 6\n",
    "\n",
    "def sentence_cal(sentence):\n",
    "    words=sentence.split()\n",
    "    count_words=len(words)\n",
    "    count_char=len(sentence)\n",
    "    count_vowel=sum(1 for char in sentence if char.lower() in 'aeiou')\n",
    "    return count_words,count_char,count_vowel\n",
    "sentence=input(\"Enter sentence: \")\n",
    "c_words,c_char,c_vowel=sentence_cal(sentence)\n",
    "print(f\"Total Words = {c_words}\")\n",
    "print(f\"Total Characters = {c_char}\")  \n",
    "print(f\"Total Vowels = {c_vowel}\")"
   ]
  },
  {
   "cell_type": "code",
   "execution_count": 13,
   "id": "9cd3f75f",
   "metadata": {},
   "outputs": [
    {
     "name": "stdout",
     "output_type": "stream",
     "text": [
      "compound  Interest = 512.50\n",
      "Total Amount = 5512.50\n"
     ]
    }
   ],
   "source": [
    "# A bank provides simple interest and compound interest. \n",
    "# A user inputs principal, rate, time, and type of interest. \n",
    "# Program should calculate accordingly.\n",
    "# Sample Input:\n",
    "# Principal = 5000\n",
    "# Rate = 5\n",
    "# Time = 2\n",
    "# Interest Type = Compound\n",
    "# Expected Output:\n",
    "# Compound Interest = 512.50\n",
    "# Total Amount = 5512.50\n",
    "\n",
    "def interest(principal,rate,time,type):\n",
    "    if type.lower()=='simple':\n",
    "        SI=(principal*rate*time)/100\n",
    "        amt=principal+SI\n",
    "        return SI,amt\n",
    "    elif type.lower()=='compound':\n",
    "        CI=principal*(1+rate/100)**(time)-principal\n",
    "        amt=principal+CI\n",
    "        return CI,amt\n",
    "    else:\n",
    "        return \"Invalid Interest Type\"\n",
    "principal=float(input(\"Enter Principal: \"))\n",
    "rate=float(input(\"Enter Rate: \"))\n",
    "time=float(input(\"Enter Time: \"))\n",
    "type=input(\"Enter Interest Type (Simple/Compound): \")\n",
    "interest_value, total_amount = interest(principal,rate,time,type)\n",
    "print(type,f\" Interest = {interest_value:.2f}\")\n",
    "print(f\"Total Amount = {total_amount:.2f}\")\n"
   ]
  },
  {
   "cell_type": "code",
   "execution_count": 14,
   "id": "02f1e4ca",
   "metadata": {},
   "outputs": [
    {
     "name": "stdout",
     "output_type": "stream",
     "text": [
      "Encrypted Message: KHOOR\n"
     ]
    }
   ],
   "source": [
    "# Implement a Caesar Cipher encryption.\n",
    "#  User inputs a message and a shift key. Program outputs the encrypted text using operators.\n",
    "# Sample Input:\n",
    "# Message = \"HELLO\"\n",
    "# Shift = 3\n",
    "# Expected Output:\n",
    "# Encrypted Message: KHOOR\n",
    "\n",
    "def caesar_cipher(message, shift):\n",
    "    msg = \"\"\n",
    "    for char in message:\n",
    "        if char.isalpha():\n",
    "            shifted = ord(char) + shift\n",
    "            if char.isupper():\n",
    "                if shifted > ord('Z'):\n",
    "                    shifted -= 26\n",
    "            elif char.islower():\n",
    "                if shifted > ord('z'):\n",
    "                    shifted -= 26\n",
    "            msg+= chr(shifted)\n",
    "        else:\n",
    "            msg+= char\n",
    "    return msg\n",
    "message = input(\"Enter Message: \")\n",
    "shift = int(input(\"Enter Shift: \"))\n",
    "print(\"Encrypted Message:\", caesar_cipher(message, shift)) \n"
   ]
  },
  {
   "cell_type": "code",
   "execution_count": null,
   "id": "ab9e99ec",
   "metadata": {},
   "outputs": [
    {
     "name": "stdout",
     "output_type": "stream",
     "text": [
      "PIN Verified\n",
      "Withdrawal Successful. Remaining Balance = 3000\n"
     ]
    }
   ],
   "source": [
    "# Build an ATM where users can withdraw money if they have sufficient balance, \n",
    "# otherwise display “Insufficient Balance”. \n",
    "# Handle PIN verification too.\n",
    "# Sample Input:\n",
    "# PIN = 1234\n",
    "# Balance = 5000\n",
    "# Withdraw = 2000\n",
    "# Expected Output:\n",
    "# PIN Verified.\n",
    "# Withdrawal Successful. Remaining Balance = 3000\n",
    "\n",
    "\n",
    "ver_pin=1234\n",
    "def ATM(pin,bal,with_amt):\n",
    "    if pin==ver_pin:\n",
    "        print(\"PIN Verified\")\n",
    "        if with_amt<=bal:\n",
    "            bal-=with_amt\n",
    "            print(f\"Withdrawal Successful. Remaining Balance = {bal}\")\n",
    "        else:\n",
    "            print(\"Insufficient Balance\")\n",
    "    else:\n",
    "        print(\"Inavlid pin\")\n",
    "\n",
    "pin=int(input(\"PIN: \"))\n",
    "bal=int(input(\"Balance:\"))\n",
    "with_amt=int(input(\"Withdraw: \"))\n",
    "ATM(pin,bal,with_amt)"
   ]
  },
  {
   "cell_type": "code",
   "execution_count": null,
   "id": "570ae123",
   "metadata": {},
   "outputs": [],
   "source": []
  }
 ],
 "metadata": {
  "kernelspec": {
   "display_name": "Python 3",
   "language": "python",
   "name": "python3"
  },
  "language_info": {
   "codemirror_mode": {
    "name": "ipython",
    "version": 3
   },
   "file_extension": ".py",
   "mimetype": "text/x-python",
   "name": "python",
   "nbconvert_exporter": "python",
   "pygments_lexer": "ipython3",
   "version": "3.11.0"
  }
 },
 "nbformat": 4,
 "nbformat_minor": 5
}
