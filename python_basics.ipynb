{
 "cells": [
  {
   "cell_type": "code",
   "execution_count": null,
   "id": "18790754",
   "metadata": {},
   "outputs": [
    {
     "name": "stdout",
     "output_type": "stream",
     "text": [
      "prime\n"
     ]
    }
   ],
   "source": [
    "# 11.\n",
    "\n",
    "# A security system checks whether the entered code is prime for extra authentication.\n",
    "#  Write a program to check if a given number is prime.\n",
    "\n",
    "number=int(input(\"enter a number:\"))\n",
    "def prime(num):\n",
    "    count=0\n",
    "    for i in range(2,num):\n",
    "        if num%i==0:\n",
    "            count+=1\n",
    "    if count==0:\n",
    "        return \"prime\"\n",
    "    return \"Not a prime\"\n",
    "print(prime(number))"
   ]
  },
  {
   "cell_type": "code",
   "execution_count": null,
   "id": "cb7b37a7",
   "metadata": {},
   "outputs": [
    {
     "name": "stdout",
     "output_type": "stream",
     "text": [
      "Second highest score: 6\n",
      "None\n"
     ]
    }
   ],
   "source": [
    "# In a class test, a teacher wants to know the second highest score among students.\n",
    "# Write a program to find the second largest number in a list.\n",
    "def second_high(Mark):\n",
    "    max1=max(Marks)\n",
    "    Marks.remove(max1)\n",
    "    max2=max(Marks)\n",
    "    print(\"Second highest score:\",max2)\n",
    "Marks=list(map(int,input().split()))\n",
    "print(second_high(Marks))\n"
   ]
  },
  {
   "cell_type": "code",
   "execution_count": null,
   "id": "beff47ad",
   "metadata": {},
   "outputs": [
    {
     "name": "stdout",
     "output_type": "stream",
     "text": [
      "650\n"
     ]
    }
   ],
   "source": [
    "# A fitness app counts only even-numbered steps to calculate “balanced walking.”\n",
    "# Write a program to find the sum of even numbers from 1 to 50.\n",
    "def balanced_walking():\n",
    "    even_sum=0\n",
    "    for i in range(1,51):\n",
    "        if i%2==0:\n",
    "            even_sum+=i\n",
    "    return even_sum\n",
    "print(balanced_walking())"
   ]
  },
  {
   "cell_type": "code",
   "execution_count": null,
   "id": "020963b5",
   "metadata": {},
   "outputs": [
    {
     "name": "stdout",
     "output_type": "stream",
     "text": [
      "Lower case characters: 4\n",
      "Upper case characters: 1\n"
     ]
    }
   ],
   "source": [
    "# A typing speed test wants to know how many uppercase and lowercase letters a user typed.\n",
    "# Write a program to count uppercase and lowercase characters in a string.\n",
    "\n",
    "def count_case(typing_str):\n",
    "    count_low=count_upp=0\n",
    "    for i in typing_str:\n",
    "        if(i>='a' and i<='z'):\n",
    "            count_low+=1\n",
    "        elif(i>='A' and i<='Z'):\n",
    "            count_upp+=1\n",
    "    return count_low,count_upp\n",
    "typing_string=input()\n",
    "low,upp=count_case(typing_string)\n",
    "print(\"Lower case characters:\",low)\n",
    "print(\"Upper case characters:\",upp)"
   ]
  },
  {
   "cell_type": "code",
   "execution_count": null,
   "id": "e9efcaba",
   "metadata": {},
   "outputs": [
    {
     "name": "stdout",
     "output_type": "stream",
     "text": [
      "8\n"
     ]
    }
   ],
   "source": [
    "# A financial tool simulates Fibonacci-like growth in savings.\n",
    "# Write a program to generate the Fibonacci sequence up to n terms.\n",
    "\n",
    "def fibonacci_seq(n):\n",
    "    if(n==0):\n",
    "        return 0\n",
    "    elif(n==1):\n",
    "        return 1\n",
    "    return fibonacci_seq(n-1)+fibonacci_seq(n-2)\n",
    "num=int(input(\"Enter a number:\"))\n",
    "print(fibonacci_seq(num))"
   ]
  },
  {
   "cell_type": "code",
   "execution_count": null,
   "id": "de45fe49",
   "metadata": {},
   "outputs": [
    {
     "name": "stdout",
     "output_type": "stream",
     "text": [
      "[2, 3, 5, 7, 11, 13, 17, 19, 23, 29, 31, 37, 41, 43, 47, 53, 59, 61, 67, 71, 73, 79, 83, 89, 97]\n"
     ]
    }
   ],
   "source": [
    "# A mathematics quiz app generates all prime numbers between 1 and 100.\n",
    "#  Write a program to print all prime numbers in this range.\n",
    "\n",
    "def prime():\n",
    "    primes=[]\n",
    "    for i in range(1,100):\n",
    "        count=0\n",
    "        for j in range(1,i):\n",
    "            if i%j==0:\n",
    "                count+=1\n",
    "        if count==1:\n",
    "            primes.append(i)\n",
    "    print(primes)\n",
    "prime()\n",
    "        "
   ]
  },
  {
   "cell_type": "code",
   "execution_count": 15,
   "id": "f0e9231e",
   "metadata": {},
   "outputs": [
    {
     "name": "stdout",
     "output_type": "stream",
     "text": [
      "28  is a perfect number\n"
     ]
    }
   ],
   "source": [
    "# A science experiment needs to verify whether a number is perfect (sum of divisors = number).\n",
    "#  Write a program to check if a number is a perfect number.\n",
    "def perfect_num(number):\n",
    "    sum_div=0\n",
    "    for i in range(1,number):\n",
    "        if number%i==0:\n",
    "            sum_div+=i\n",
    "    if(sum_div==number):\n",
    "        return True\n",
    "    return False\n",
    "number=int(input())\n",
    "if(perfect_num(number)):\n",
    "    print(number,\" is a perfect number\")\n",
    "else:\n",
    "    print(number,\" is not a perfect number\")"
   ]
  },
  {
   "cell_type": "code",
   "execution_count": null,
   "id": "72319636",
   "metadata": {},
   "outputs": [],
   "source": [
    "# An online editor counts words in an article but doesn’t allow using split().\n",
    "# Write a program to count the number of words in a sentence.\n",
    "sentence=input()\n",
    "count=1\n",
    "for i in sentence:\n",
    "    if i==\" \" or i=='\\t' or i=='\\n':\n",
    "        count+=1\n",
    "print(count)"
   ]
  },
  {
   "cell_type": "code",
   "execution_count": 16,
   "id": "6c1f921d",
   "metadata": {},
   "outputs": [
    {
     "name": "stdout",
     "output_type": "stream",
     "text": [
      "It's cold , wear warm clothes!\n"
     ]
    }
   ],
   "source": [
    "# Weather Suggestion\n",
    "\n",
    "# Write a program that takes the temperature as input and gives a suggestion:\n",
    "\n",
    "# 35 → \"Too hot, stay indoors!\"\n",
    "\n",
    "# 20–35 → \"Nice weather, go out!\"\n",
    "\n",
    "# < 20 → \"It’s cold, wear warm clothes!\"\n",
    "\n",
    "temperature=int(input())\n",
    "def suggestion(i):\n",
    "    if i>=35:\n",
    "        print(\"Too hot,stay indoors!\")\n",
    "    elif i>=20 and i<35:\n",
    "        print(\"Nice weather, go out!\")\n",
    "    elif i<20:\n",
    "        print(\"It's cold , wear warm clothes!\")\n",
    "suggestion(temperature)"
   ]
  },
  {
   "cell_type": "code",
   "execution_count": 14,
   "id": "98f5f515",
   "metadata": {},
   "outputs": [
    {
     "name": "stdout",
     "output_type": "stream",
     "text": [
      "50 rupees\n"
     ]
    }
   ],
   "source": [
    "# Library Fine\n",
    "\n",
    "# A library charges a fine for late book returns:\n",
    "\n",
    "# 1–5 days → ₹10\n",
    "\n",
    "# 6–10 days → ₹50\n",
    "\n",
    "# 10 days → ₹100\n",
    "# Write a program that takes the number of late days as input \n",
    "# and prints the fine amount.\n",
    "\n",
    "days=int(input())\n",
    "def fine(i):\n",
    "    if i>=10:\n",
    "        print(\"100 rupees\")\n",
    "    elif i>=6 and i<10:\n",
    "        print(\"50 rupees\")\n",
    "    elif i>=1 and i<=5:\n",
    "        print(\"10 rupees\")\n",
    "fine(days)"
   ]
  },
  {
   "cell_type": "code",
   "execution_count": 17,
   "id": "7e43ec80",
   "metadata": {},
   "outputs": [
    {
     "name": "stdout",
     "output_type": "stream",
     "text": [
      "F\n"
     ]
    }
   ],
   "source": [
    "# A school report system calculates percentage and assigns grades:\n",
    "\n",
    "# ≥90 → A\n",
    "\n",
    "# ≥75 → B\n",
    "\n",
    "# ≥50 → C\n",
    "\n",
    "# <50 → Fail\n",
    "\n",
    "# Write a program that takes 5 subject marks, \n",
    "# calculates percentage, and prints the grade.\n",
    "def grade(marks):\n",
    "    total=sum(marks)\n",
    "    percentage=(total/500)*100\n",
    "    if percentage>=90:\n",
    "        return \"A\"\n",
    "    elif percentage>=75 and percentage<90:\n",
    "        return \"B\"\n",
    "    elif percentage>=50 and percentage<75:\n",
    "        return \"C\"\n",
    "    else:\n",
    "        return \"F\"\n",
    "marks=list(map(int,input().split()))\n",
    "print(grade(marks))"
   ]
  },
  {
   "cell_type": "code",
   "execution_count": null,
   "id": "5acce202",
   "metadata": {},
   "outputs": [
    {
     "name": "stdout",
     "output_type": "stream",
     "text": [
      "Anagram\n"
     ]
    }
   ],
   "source": [
    "# A word puzzle game checks if two words are anagrams (same letters but shuffled). \n",
    "# Write a program to check if two strings are anagrams.\n",
    "def anagram(str1,str2):\n",
    "    str1=str1.lower()\n",
    "    str2=str2.lower()\n",
    "    if sorted(str1)==sorted(str2):\n",
    "        return True\n",
    "    return False\n",
    "str1=input(\"Enter first string:\")\n",
    "str2=input(\"Enter second string:\")\n",
    "if(anagram(str1,str2)):\n",
    "    print(\"Anagram\")\n",
    "else:\n",
    "    print(\"Not an Anagram\")"
   ]
  },
  {
   "cell_type": "code",
   "execution_count": null,
   "id": "12b79299",
   "metadata": {},
   "outputs": [
    {
     "name": "stdout",
     "output_type": "stream",
     "text": [
      "Discounted ticket price: 320.0\n"
     ]
    }
   ],
   "source": [
    "# Movie Ticket Discount\n",
    "\n",
    "# A cinema gives a 20% discount if the customer is a student and 10% discount if the customer is a senior citizen (age ≥ 60).\n",
    "# Write a program that takes ticket price, age, and student status (yes/no) as input \n",
    "# and prints the final ticket price.\n",
    "def ticket_discount(ticket_price,age,status):\n",
    "    if age>=60:\n",
    "        return ticket_price*0.8\n",
    "    elif status==\"yes\":\n",
    "        return ticket_price*0.9\n",
    "    else:\n",
    "        return ticket_price\n",
    "ticket_price=float(input(\"Enter ticket price:\"))\n",
    "age=int(input(\"Enter age:\"))\n",
    "status=input(\"Enter yes if you are a student,no otherwise:\")\n",
    "\n",
    "print(\"Discounted ticket price:\",ticket_discount(ticket_price,age,status))\n"
   ]
  },
  {
   "cell_type": "code",
   "execution_count": null,
   "id": "8340728f",
   "metadata": {},
   "outputs": [
    {
     "name": "stdout",
     "output_type": "stream",
     "text": [
      "Total amount to be paid: 350.0\n"
     ]
    }
   ],
   "source": [
    "# Shopping Cart Free Delivery\n",
    "\n",
    "# An e-commerce website gives free delivery if the total cart value is more than ₹500\n",
    "# . Otherwise, a delivery charge of ₹50 is applied.\n",
    "# Write a program that takes the cart total as input and\n",
    "#  prints the final amount payable.\n",
    "\n",
    "\n",
    "def amount(cart_total):\n",
    "    if cart_total>500:\n",
    "        return cart_total\n",
    "    return cart_total+50\n",
    "cart_total=float(input(\"Enter cart total:\"))\n",
    "print(\"Total amount to be paid:\",amount(cart_total))"
   ]
  },
  {
   "cell_type": "code",
   "execution_count": null,
   "id": "10be85d0",
   "metadata": {},
   "outputs": [
    {
     "name": "stdout",
     "output_type": "stream",
     "text": [
      "Grade: B\n"
     ]
    }
   ],
   "source": [
    "# /# Marks Grading System\n",
    "\n",
    "# A college follows this grading system:\n",
    "\n",
    "# 90–100: A\n",
    "# 75–89: B\n",
    "\n",
    "# 50–74: C\n",
    "# \n",
    "# Below 50: Fail\n",
    "# Write a program that takes marks as input and prints the grade.\n",
    "\n",
    "def grading(marks):\n",
    "    if marks>=90:\n",
    "        return \"A\"\n",
    "    elif marks>=75 and marks<90:\n",
    "        return \"B\"\n",
    "    elif marks>=50 and marks<75:\n",
    "        return \"C\"\n",
    "    else:\n",
    "        return \"F\"\n",
    "marks=int(input(\"Enter marks:\"))\n",
    "print(\"Grade:\",grading(marks))"
   ]
  },
  {
   "cell_type": "code",
   "execution_count": null,
   "id": "f87cf7dd",
   "metadata": {},
   "outputs": [
    {
     "name": "stdout",
     "output_type": "stream",
     "text": [
      "Total bill amount with tip: 605.0\n"
     ]
    }
   ],
   "source": [
    "# Restaurant Tip Calculator\n",
    "# \n",
    "# A restaurant suggests tips based on the bill:\n",
    "# \n",
    "# Less than 500 → 5% tip\n",
    "# \n",
    "# 500–1000 → 10% tip\n",
    "# \n",
    "# More than 1000 → 15% tip\n",
    "# Write a program that takes the bill amount and prints the tip to be added.\n",
    "# \n",
    "def add_tip(bill):\n",
    "    if(bill<500):\n",
    "        return bill*1.05\n",
    "    elif(bill>=500 and bill<=1000):\n",
    "        return bill*1.1\n",
    "    else:\n",
    "        return bill*1.15\n",
    "bill=float(input(\"Enter bill amount:\"))\n",
    "print(\"Total bill amount with tip:\",add_tip(bill))"
   ]
  },
  {
   "cell_type": "code",
   "execution_count": null,
   "id": "c4683653",
   "metadata": {},
   "outputs": [
    {
     "name": "stdout",
     "output_type": "stream",
     "text": [
      "Total gym charges: 11500\n"
     ]
    }
   ],
   "source": [
    "# Gym Membership Plan\n",
    "# \n",
    "# A gym charges:\n",
    "# \n",
    "# ₹500 per month\n",
    "# \n",
    "# ₹2700 for 6 months (discounted)\n",
    "# \n",
    "# ₹5000 for 12 months (discounted)\n",
    "# Write a program where the user enters the membership period (months) and the program prints the cheapest option.\n",
    "\n",
    "def gym_charges(period):\n",
    "    cost=0\n",
    "    while period>0:\n",
    "        if period<6:\n",
    "            cost=cost+period*500\n",
    "            period=period-period\n",
    "        elif period>6 and period<=12:\n",
    "            period=period-6\n",
    "            cost=cost+2700            \n",
    "        else:\n",
    "            period=period-12\n",
    "            cost=cost+5000\n",
    "    return cost\n",
    "period=int(input(\"Enter membership period in months:\"))\n",
    "print(\"Total gym charges:\",gym_charges(period))"
   ]
  },
  {
   "cell_type": "code",
   "execution_count": null,
   "id": "6a78e3d1",
   "metadata": {},
   "outputs": [],
   "source": [
    "#  Exam Eligibility\n",
    "# \n",
    "# A student must have at least 75% attendance to sit for the exam.\n",
    "# Write a program that takes total classes and classes attended as input \n",
    "# and prints whether the student is eligible or not eligible.\n",
    "def exam_eligiblity(total_classes,classes_attended):\n",
    "    attendance=(classes_attended/total_classes)*100\n",
    "    if attendance>=75:\n",
    "        return \"Eligible for exam\"\n",
    "    return \"Not eligible for exam\"\n",
    "total_classes=int(input(\"Enter total classes held:\"))\n",
    "classes_attended=int(input(\"Enter classes attended:\"))  \n",
    "print(exam_eligiblity(total_classes,classes_attended))"
   ]
  },
  {
   "cell_type": "code",
   "execution_count": 12,
   "id": "2957c6d4",
   "metadata": {},
   "outputs": [
    {
     "name": "stdout",
     "output_type": "stream",
     "text": [
      "transaction successful\n"
     ]
    }
   ],
   "source": [
    "#  ATM Withdrawal\n",
    "# \n",
    "# An ATM only allows withdrawals in multiples of 100.\n",
    "# Write a program that takes the withdrawal amount \n",
    "# and prints whether the transaction is successful or failed.\n",
    "def atm_transaction(withdraw_amount):\n",
    "    if withdraw_amount%100!=0:\n",
    "        return \"transaction failed\"\n",
    "    return \"transaction successful\"\n",
    "withdraw_amount=int(input(\"Enter withdraw amount:\"))    \n",
    "print(atm_transaction(withdraw_amount))"
   ]
  },
  {
   "cell_type": "code",
   "execution_count": 13,
   "id": "11387de8",
   "metadata": {},
   "outputs": [
    {
     "name": "stdout",
     "output_type": "stream",
     "text": [
      "Total electricity bill: 450\n"
     ]
    }
   ],
   "source": [
    "#  Electricity Bill Calculator\n",
    "\n",
    "# An electricity board charges:\n",
    "\n",
    "# First 100 units → ₹5 per unit\n",
    "\n",
    "# Next 100 units (101–200) → ₹7 per unit\n",
    "# \n",
    "# Above 200 units → ₹10 per unit\n",
    "# Write a program that takes units consumed as input\n",
    "#  and prints the bill amount.\n",
    "\n",
    "def bill_claculator(units):\n",
    "    if units<=100:\n",
    "        return units*5\n",
    "    elif units>100 and units<=200:\n",
    "        return 100*5+(units-100)*7\n",
    "    else:\n",
    "        return 100*5+100*7+(units-200)*10\n",
    "units=int(input(\"Enter units consumed:\"))\n",
    "print(\"Total electricity bill:\",bill_claculator(units))"
   ]
  },
  {
   "cell_type": "code",
   "execution_count": null,
   "id": "806aa08d",
   "metadata": {},
   "outputs": [],
   "source": []
  }
 ],
 "metadata": {
  "kernelspec": {
   "display_name": "Python 3",
   "language": "python",
   "name": "python3"
  },
  "language_info": {
   "codemirror_mode": {
    "name": "ipython",
    "version": 3
   },
   "file_extension": ".py",
   "mimetype": "text/x-python",
   "name": "python",
   "nbconvert_exporter": "python",
   "pygments_lexer": "ipython3",
   "version": "3.11.0"
  }
 },
 "nbformat": 4,
 "nbformat_minor": 5
}
